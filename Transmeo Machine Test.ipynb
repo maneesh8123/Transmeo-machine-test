{
 "cells": [
  {
   "cell_type": "markdown",
   "id": "2adda83f",
   "metadata": {},
   "source": [
    "### Creating a dictionary with keys - First Name , Last Name , Phone Number, Company Name"
   ]
  },
  {
   "cell_type": "code",
   "execution_count": 85,
   "id": "e766f58e",
   "metadata": {},
   "outputs": [],
   "source": [
    "employee_dict={\"First Name\": ['Rahul','Maneesh','Arjun','Eben','Ajay','Arjun','Azad','Manu','Manu','Akhil',\n",
    "                              'Gangadathan','Sreejith','Sujith'],\n",
    "              \"Last Name\":['Baby','M M',\"Krishnankutty\",'Luke Joy','Krishnan','Mohanan','Asok','Prasad','Mohan','Joy','PS',\n",
    "                           'Mohanan','R Nair'],\n",
    "              \"Phone_NO\":['8129361195','9388980023','9678876789','8943434512','9656064333',\n",
    "                         '4566361191','9358980003','9678876700','8943434543','9656064555','8129361195','9388980023',\n",
    "                          '9678876789'],\n",
    "              \"company\":['Tranzmeo','Google','Apple','Microsoft','Twitter','Facebook','Amazon','Hcl','Techxer','American Express',\n",
    "                        'Knowldege Foundry','Akaike Technologie','Internshala']}"
   ]
  },
  {
   "cell_type": "code",
   "execution_count": 86,
   "id": "d5b6179d",
   "metadata": {},
   "outputs": [
    {
     "data": {
      "text/plain": [
       "{'First Name': ['Rahul',\n",
       "  'Maneesh',\n",
       "  'Arjun',\n",
       "  'Eben',\n",
       "  'Ajay',\n",
       "  'Arjun',\n",
       "  'Azad',\n",
       "  'Manu',\n",
       "  'Manu',\n",
       "  'Akhil',\n",
       "  'Gangadathan',\n",
       "  'Sreejith',\n",
       "  'Sujith'],\n",
       " 'Last Name': ['Baby',\n",
       "  'M M',\n",
       "  'Krishnankutty',\n",
       "  'Luke Joy',\n",
       "  'Krishnan',\n",
       "  'Mohanan',\n",
       "  'Asok',\n",
       "  'Prasad',\n",
       "  'Mohan',\n",
       "  'Joy',\n",
       "  'PS',\n",
       "  'Mohanan',\n",
       "  'R Nair'],\n",
       " 'Phone_NO': ['8129361195',\n",
       "  '9388980023',\n",
       "  '9678876789',\n",
       "  '8943434512',\n",
       "  '9656064333',\n",
       "  '4566361191',\n",
       "  '9358980003',\n",
       "  '9678876700',\n",
       "  '8943434543',\n",
       "  '9656064555',\n",
       "  '8129361195',\n",
       "  '9388980023',\n",
       "  '9678876789'],\n",
       " 'company': ['Tranzmeo',\n",
       "  'Google',\n",
       "  'Apple',\n",
       "  'Microsoft',\n",
       "  'Twitter',\n",
       "  'Facebook',\n",
       "  'Amazon',\n",
       "  'Hcl',\n",
       "  'Techxer',\n",
       "  'American Express',\n",
       "  'Knowldege Foundry',\n",
       "  'Akaike Technologie',\n",
       "  'Internshala']}"
      ]
     },
     "execution_count": 86,
     "metadata": {},
     "output_type": "execute_result"
    }
   ],
   "source": [
    "employee_dict"
   ]
  },
  {
   "cell_type": "code",
   "execution_count": 87,
   "id": "3c31c463",
   "metadata": {},
   "outputs": [],
   "source": [
    "import pandas as pd"
   ]
  },
  {
   "cell_type": "markdown",
   "id": "d11ee0ac",
   "metadata": {},
   "source": [
    "## Convert the dictionary into dataframe and save it as a csv file"
   ]
  },
  {
   "cell_type": "code",
   "execution_count": 113,
   "id": "973dfea2",
   "metadata": {},
   "outputs": [],
   "source": [
    "employee_df=pd.DataFrame(employee_dict).to_csv(r'C:\\Users\\MANEESH\\employee_df.csv',index=False)#converting the employee dictionary to DataFrame"
   ]
  },
  {
   "cell_type": "code",
   "execution_count": 114,
   "id": "ecb3b658",
   "metadata": {},
   "outputs": [],
   "source": [
    "employee_df=pd.read_csv(\"employee_df.csv\")# Reading the csv file\n"
   ]
  },
  {
   "cell_type": "code",
   "execution_count": 115,
   "id": "df56c166",
   "metadata": {},
   "outputs": [
    {
     "data": {
      "text/html": [
       "<div>\n",
       "<style scoped>\n",
       "    .dataframe tbody tr th:only-of-type {\n",
       "        vertical-align: middle;\n",
       "    }\n",
       "\n",
       "    .dataframe tbody tr th {\n",
       "        vertical-align: top;\n",
       "    }\n",
       "\n",
       "    .dataframe thead th {\n",
       "        text-align: right;\n",
       "    }\n",
       "</style>\n",
       "<table border=\"1\" class=\"dataframe\">\n",
       "  <thead>\n",
       "    <tr style=\"text-align: right;\">\n",
       "      <th></th>\n",
       "      <th>First Name</th>\n",
       "      <th>Last Name</th>\n",
       "      <th>Phone_NO</th>\n",
       "      <th>company</th>\n",
       "    </tr>\n",
       "  </thead>\n",
       "  <tbody>\n",
       "    <tr>\n",
       "      <th>0</th>\n",
       "      <td>Rahul</td>\n",
       "      <td>Baby</td>\n",
       "      <td>8129361195</td>\n",
       "      <td>Tranzmeo</td>\n",
       "    </tr>\n",
       "    <tr>\n",
       "      <th>1</th>\n",
       "      <td>Maneesh</td>\n",
       "      <td>M M</td>\n",
       "      <td>9388980023</td>\n",
       "      <td>Google</td>\n",
       "    </tr>\n",
       "    <tr>\n",
       "      <th>2</th>\n",
       "      <td>Arjun</td>\n",
       "      <td>Krishnankutty</td>\n",
       "      <td>9678876789</td>\n",
       "      <td>Apple</td>\n",
       "    </tr>\n",
       "    <tr>\n",
       "      <th>3</th>\n",
       "      <td>Eben</td>\n",
       "      <td>Luke Joy</td>\n",
       "      <td>8943434512</td>\n",
       "      <td>Microsoft</td>\n",
       "    </tr>\n",
       "    <tr>\n",
       "      <th>4</th>\n",
       "      <td>Ajay</td>\n",
       "      <td>Krishnan</td>\n",
       "      <td>9656064333</td>\n",
       "      <td>Twitter</td>\n",
       "    </tr>\n",
       "    <tr>\n",
       "      <th>5</th>\n",
       "      <td>Arjun</td>\n",
       "      <td>Mohanan</td>\n",
       "      <td>4566361191</td>\n",
       "      <td>Facebook</td>\n",
       "    </tr>\n",
       "    <tr>\n",
       "      <th>6</th>\n",
       "      <td>Azad</td>\n",
       "      <td>Asok</td>\n",
       "      <td>9358980003</td>\n",
       "      <td>Amazon</td>\n",
       "    </tr>\n",
       "    <tr>\n",
       "      <th>7</th>\n",
       "      <td>Manu</td>\n",
       "      <td>Prasad</td>\n",
       "      <td>9678876700</td>\n",
       "      <td>Hcl</td>\n",
       "    </tr>\n",
       "    <tr>\n",
       "      <th>8</th>\n",
       "      <td>Manu</td>\n",
       "      <td>Mohan</td>\n",
       "      <td>8943434543</td>\n",
       "      <td>Techxer</td>\n",
       "    </tr>\n",
       "    <tr>\n",
       "      <th>9</th>\n",
       "      <td>Akhil</td>\n",
       "      <td>Joy</td>\n",
       "      <td>9656064555</td>\n",
       "      <td>American Express</td>\n",
       "    </tr>\n",
       "    <tr>\n",
       "      <th>10</th>\n",
       "      <td>Gangadathan</td>\n",
       "      <td>PS</td>\n",
       "      <td>8129361195</td>\n",
       "      <td>Knowldege Foundry</td>\n",
       "    </tr>\n",
       "    <tr>\n",
       "      <th>11</th>\n",
       "      <td>Sreejith</td>\n",
       "      <td>Mohanan</td>\n",
       "      <td>9388980023</td>\n",
       "      <td>Akaike Technologie</td>\n",
       "    </tr>\n",
       "    <tr>\n",
       "      <th>12</th>\n",
       "      <td>Sujith</td>\n",
       "      <td>R Nair</td>\n",
       "      <td>9678876789</td>\n",
       "      <td>Internshala</td>\n",
       "    </tr>\n",
       "  </tbody>\n",
       "</table>\n",
       "</div>"
      ],
      "text/plain": [
       "     First Name      Last Name    Phone_NO             company\n",
       "0         Rahul           Baby  8129361195            Tranzmeo\n",
       "1       Maneesh            M M  9388980023              Google\n",
       "2         Arjun  Krishnankutty  9678876789               Apple\n",
       "3          Eben       Luke Joy  8943434512           Microsoft\n",
       "4          Ajay       Krishnan  9656064333             Twitter\n",
       "5         Arjun        Mohanan  4566361191            Facebook\n",
       "6          Azad           Asok  9358980003              Amazon\n",
       "7          Manu         Prasad  9678876700                 Hcl\n",
       "8          Manu          Mohan  8943434543             Techxer\n",
       "9         Akhil            Joy  9656064555    American Express\n",
       "10  Gangadathan             PS  8129361195   Knowldege Foundry\n",
       "11     Sreejith        Mohanan  9388980023  Akaike Technologie\n",
       "12       Sujith         R Nair  9678876789         Internshala"
      ]
     },
     "execution_count": 115,
     "metadata": {},
     "output_type": "execute_result"
    }
   ],
   "source": [
    "employee_df"
   ]
  },
  {
   "cell_type": "code",
   "execution_count": 138,
   "id": "882f093d",
   "metadata": {},
   "outputs": [
    {
     "data": {
      "text/plain": [
       "'GO'"
      ]
     },
     "execution_count": 138,
     "metadata": {},
     "output_type": "execute_result"
    }
   ],
   "source": [
    "employee_df['company'][1][0:2].upper()#taking firsh two characters form the company fileld and convert the string into uppercase"
   ]
  },
  {
   "cell_type": "code",
   "execution_count": 140,
   "id": "69e1c249",
   "metadata": {},
   "outputs": [
    {
     "data": {
      "text/plain": [
       "First Name    object\n",
       "Last Name     object\n",
       "Phone_NO       int64\n",
       "company       object\n",
       "dtype: object"
      ]
     },
     "execution_count": 140,
     "metadata": {},
     "output_type": "execute_result"
    }
   ],
   "source": [
    "employee_df.dtypes\n"
   ]
  },
  {
   "cell_type": "code",
   "execution_count": 150,
   "id": "504e7009",
   "metadata": {},
   "outputs": [],
   "source": [
    "employee_df['Phone_NO']=employee_df['Phone_NO'].astype(str)"
   ]
  },
  {
   "cell_type": "code",
   "execution_count": 151,
   "id": "73186f8d",
   "metadata": {},
   "outputs": [
    {
     "data": {
      "text/plain": [
       "First Name    object\n",
       "Last Name     object\n",
       "Phone_NO      object\n",
       "company       object\n",
       "dtype: object"
      ]
     },
     "execution_count": 151,
     "metadata": {},
     "output_type": "execute_result"
    }
   ],
   "source": [
    "employee_df.dtypes"
   ]
  },
  {
   "cell_type": "code",
   "execution_count": 152,
   "id": "c93d9652",
   "metadata": {},
   "outputs": [
    {
     "data": {
      "text/plain": [
       "dtype('O')"
      ]
     },
     "execution_count": 152,
     "metadata": {},
     "output_type": "execute_result"
    }
   ],
   "source": [
    "employee_df['Phone_NO'].dtypes"
   ]
  },
  {
   "cell_type": "code",
   "execution_count": 153,
   "id": "cb3fcd4b",
   "metadata": {},
   "outputs": [
    {
     "data": {
      "text/plain": [
       "'95'"
      ]
     },
     "execution_count": 153,
     "metadata": {},
     "output_type": "execute_result"
    }
   ],
   "source": [
    "employee_df['Phone_NO'][0][8:10] #Taking last two characters from Phone_NO"
   ]
  },
  {
   "cell_type": "code",
   "execution_count": 154,
   "id": "026d5519",
   "metadata": {},
   "outputs": [
    {
     "data": {
      "text/plain": [
       "(['TR', 'MM', 'TB', 'TK', 'TT'], ['95', '23', '89', '12', '33'])"
      ]
     },
     "execution_count": 154,
     "metadata": {},
     "output_type": "execute_result"
    }
   ],
   "source": [
    "c_,ph_"
   ]
  },
  {
   "cell_type": "code",
   "execution_count": 155,
   "id": "bafdfe0c",
   "metadata": {},
   "outputs": [],
   "source": [
    "#Here creating a list employee_id for getting the empoloyee id like expected output format : TR-00198\n",
    "employee_id=[]\n",
    "for i in range(0,len(employee_df)):\n",
    "    employeeid = employee_df['company'][i][0:2].upper()+\"-\"+f\"{i:03}\"+employee_df['Phone_NO'][i][8:10]\n",
    "    employee_id.append(employeeid)"
   ]
  },
  {
   "cell_type": "code",
   "execution_count": 156,
   "id": "e6460431",
   "metadata": {},
   "outputs": [
    {
     "data": {
      "text/plain": [
       "['TR-00095',\n",
       " 'GO-00123',\n",
       " 'AP-00289',\n",
       " 'MI-00312',\n",
       " 'TW-00433',\n",
       " 'FA-00591',\n",
       " 'AM-00603',\n",
       " 'HC-00700',\n",
       " 'TE-00843',\n",
       " 'AM-00955',\n",
       " 'KN-01095',\n",
       " 'AK-01123',\n",
       " 'IN-01289']"
      ]
     },
     "execution_count": 156,
     "metadata": {},
     "output_type": "execute_result"
    }
   ],
   "source": [
    "employee_id"
   ]
  },
  {
   "cell_type": "code",
   "execution_count": 162,
   "id": "d896089d",
   "metadata": {},
   "outputs": [],
   "source": [
    "employee_ids=pd.DataFrame(employee_id,columns=['employee ids']).to_csv(r'C:\\Users\\MANEESH\\employee_ids.csv',index=False)"
   ]
  },
  {
   "cell_type": "code",
   "execution_count": 164,
   "id": "7511a7a2",
   "metadata": {},
   "outputs": [],
   "source": [
    "employee_ids=pd.read_csv('employee_ids.csv')"
   ]
  },
  {
   "cell_type": "code",
   "execution_count": 165,
   "id": "fc29f347",
   "metadata": {},
   "outputs": [],
   "source": [
    "#concatenate the two csv file ,final csv\n",
    "\n",
    "final_df=pd.concat([employee_ids,employee_df],axis=1)\n"
   ]
  },
  {
   "cell_type": "code",
   "execution_count": 166,
   "id": "0e529b1e",
   "metadata": {},
   "outputs": [
    {
     "data": {
      "text/html": [
       "<div>\n",
       "<style scoped>\n",
       "    .dataframe tbody tr th:only-of-type {\n",
       "        vertical-align: middle;\n",
       "    }\n",
       "\n",
       "    .dataframe tbody tr th {\n",
       "        vertical-align: top;\n",
       "    }\n",
       "\n",
       "    .dataframe thead th {\n",
       "        text-align: right;\n",
       "    }\n",
       "</style>\n",
       "<table border=\"1\" class=\"dataframe\">\n",
       "  <thead>\n",
       "    <tr style=\"text-align: right;\">\n",
       "      <th></th>\n",
       "      <th>employee ids</th>\n",
       "      <th>First Name</th>\n",
       "      <th>Last Name</th>\n",
       "      <th>Phone_NO</th>\n",
       "      <th>company</th>\n",
       "    </tr>\n",
       "  </thead>\n",
       "  <tbody>\n",
       "    <tr>\n",
       "      <th>0</th>\n",
       "      <td>TR-00095</td>\n",
       "      <td>Rahul</td>\n",
       "      <td>Baby</td>\n",
       "      <td>8129361195</td>\n",
       "      <td>Tranzmeo</td>\n",
       "    </tr>\n",
       "    <tr>\n",
       "      <th>1</th>\n",
       "      <td>GO-00123</td>\n",
       "      <td>Maneesh</td>\n",
       "      <td>M M</td>\n",
       "      <td>9388980023</td>\n",
       "      <td>Google</td>\n",
       "    </tr>\n",
       "    <tr>\n",
       "      <th>2</th>\n",
       "      <td>AP-00289</td>\n",
       "      <td>Arjun</td>\n",
       "      <td>Krishnankutty</td>\n",
       "      <td>9678876789</td>\n",
       "      <td>Apple</td>\n",
       "    </tr>\n",
       "    <tr>\n",
       "      <th>3</th>\n",
       "      <td>MI-00312</td>\n",
       "      <td>Eben</td>\n",
       "      <td>Luke Joy</td>\n",
       "      <td>8943434512</td>\n",
       "      <td>Microsoft</td>\n",
       "    </tr>\n",
       "    <tr>\n",
       "      <th>4</th>\n",
       "      <td>TW-00433</td>\n",
       "      <td>Ajay</td>\n",
       "      <td>Krishnan</td>\n",
       "      <td>9656064333</td>\n",
       "      <td>Twitter</td>\n",
       "    </tr>\n",
       "    <tr>\n",
       "      <th>5</th>\n",
       "      <td>FA-00591</td>\n",
       "      <td>Arjun</td>\n",
       "      <td>Mohanan</td>\n",
       "      <td>4566361191</td>\n",
       "      <td>Facebook</td>\n",
       "    </tr>\n",
       "    <tr>\n",
       "      <th>6</th>\n",
       "      <td>AM-00603</td>\n",
       "      <td>Azad</td>\n",
       "      <td>Asok</td>\n",
       "      <td>9358980003</td>\n",
       "      <td>Amazon</td>\n",
       "    </tr>\n",
       "    <tr>\n",
       "      <th>7</th>\n",
       "      <td>HC-00700</td>\n",
       "      <td>Manu</td>\n",
       "      <td>Prasad</td>\n",
       "      <td>9678876700</td>\n",
       "      <td>Hcl</td>\n",
       "    </tr>\n",
       "    <tr>\n",
       "      <th>8</th>\n",
       "      <td>TE-00843</td>\n",
       "      <td>Manu</td>\n",
       "      <td>Mohan</td>\n",
       "      <td>8943434543</td>\n",
       "      <td>Techxer</td>\n",
       "    </tr>\n",
       "    <tr>\n",
       "      <th>9</th>\n",
       "      <td>AM-00955</td>\n",
       "      <td>Akhil</td>\n",
       "      <td>Joy</td>\n",
       "      <td>9656064555</td>\n",
       "      <td>American Express</td>\n",
       "    </tr>\n",
       "    <tr>\n",
       "      <th>10</th>\n",
       "      <td>KN-01095</td>\n",
       "      <td>Gangadathan</td>\n",
       "      <td>PS</td>\n",
       "      <td>8129361195</td>\n",
       "      <td>Knowldege Foundry</td>\n",
       "    </tr>\n",
       "    <tr>\n",
       "      <th>11</th>\n",
       "      <td>AK-01123</td>\n",
       "      <td>Sreejith</td>\n",
       "      <td>Mohanan</td>\n",
       "      <td>9388980023</td>\n",
       "      <td>Akaike Technologie</td>\n",
       "    </tr>\n",
       "    <tr>\n",
       "      <th>12</th>\n",
       "      <td>IN-01289</td>\n",
       "      <td>Sujith</td>\n",
       "      <td>R Nair</td>\n",
       "      <td>9678876789</td>\n",
       "      <td>Internshala</td>\n",
       "    </tr>\n",
       "  </tbody>\n",
       "</table>\n",
       "</div>"
      ],
      "text/plain": [
       "   employee ids   First Name      Last Name    Phone_NO             company\n",
       "0      TR-00095        Rahul           Baby  8129361195            Tranzmeo\n",
       "1      GO-00123      Maneesh            M M  9388980023              Google\n",
       "2      AP-00289        Arjun  Krishnankutty  9678876789               Apple\n",
       "3      MI-00312         Eben       Luke Joy  8943434512           Microsoft\n",
       "4      TW-00433         Ajay       Krishnan  9656064333             Twitter\n",
       "5      FA-00591        Arjun        Mohanan  4566361191            Facebook\n",
       "6      AM-00603         Azad           Asok  9358980003              Amazon\n",
       "7      HC-00700         Manu         Prasad  9678876700                 Hcl\n",
       "8      TE-00843         Manu          Mohan  8943434543             Techxer\n",
       "9      AM-00955        Akhil            Joy  9656064555    American Express\n",
       "10     KN-01095  Gangadathan             PS  8129361195   Knowldege Foundry\n",
       "11     AK-01123     Sreejith        Mohanan  9388980023  Akaike Technologie\n",
       "12     IN-01289       Sujith         R Nair  9678876789         Internshala"
      ]
     },
     "execution_count": 166,
     "metadata": {},
     "output_type": "execute_result"
    }
   ],
   "source": [
    "final_df"
   ]
  },
  {
   "cell_type": "code",
   "execution_count": 167,
   "id": "75f32220",
   "metadata": {},
   "outputs": [],
   "source": [
    "#final_df to csv \n",
    "\n",
    "final_df.to_csv(r'C:\\Users\\MANEESH\\final_data.csv',index=False)"
   ]
  },
  {
   "cell_type": "code",
   "execution_count": 169,
   "id": "cd9d8d88",
   "metadata": {},
   "outputs": [
    {
     "data": {
      "text/html": [
       "<div>\n",
       "<style scoped>\n",
       "    .dataframe tbody tr th:only-of-type {\n",
       "        vertical-align: middle;\n",
       "    }\n",
       "\n",
       "    .dataframe tbody tr th {\n",
       "        vertical-align: top;\n",
       "    }\n",
       "\n",
       "    .dataframe thead th {\n",
       "        text-align: right;\n",
       "    }\n",
       "</style>\n",
       "<table border=\"1\" class=\"dataframe\">\n",
       "  <thead>\n",
       "    <tr style=\"text-align: right;\">\n",
       "      <th></th>\n",
       "      <th>employee ids</th>\n",
       "      <th>First Name</th>\n",
       "      <th>Last Name</th>\n",
       "      <th>Phone_NO</th>\n",
       "      <th>company</th>\n",
       "    </tr>\n",
       "  </thead>\n",
       "  <tbody>\n",
       "    <tr>\n",
       "      <th>0</th>\n",
       "      <td>TR-00095</td>\n",
       "      <td>Rahul</td>\n",
       "      <td>Baby</td>\n",
       "      <td>8129361195</td>\n",
       "      <td>Tranzmeo</td>\n",
       "    </tr>\n",
       "    <tr>\n",
       "      <th>1</th>\n",
       "      <td>GO-00123</td>\n",
       "      <td>Maneesh</td>\n",
       "      <td>M M</td>\n",
       "      <td>9388980023</td>\n",
       "      <td>Google</td>\n",
       "    </tr>\n",
       "    <tr>\n",
       "      <th>2</th>\n",
       "      <td>AP-00289</td>\n",
       "      <td>Arjun</td>\n",
       "      <td>Krishnankutty</td>\n",
       "      <td>9678876789</td>\n",
       "      <td>Apple</td>\n",
       "    </tr>\n",
       "    <tr>\n",
       "      <th>3</th>\n",
       "      <td>MI-00312</td>\n",
       "      <td>Eben</td>\n",
       "      <td>Luke Joy</td>\n",
       "      <td>8943434512</td>\n",
       "      <td>Microsoft</td>\n",
       "    </tr>\n",
       "    <tr>\n",
       "      <th>4</th>\n",
       "      <td>TW-00433</td>\n",
       "      <td>Ajay</td>\n",
       "      <td>Krishnan</td>\n",
       "      <td>9656064333</td>\n",
       "      <td>Twitter</td>\n",
       "    </tr>\n",
       "    <tr>\n",
       "      <th>5</th>\n",
       "      <td>FA-00591</td>\n",
       "      <td>Arjun</td>\n",
       "      <td>Mohanan</td>\n",
       "      <td>4566361191</td>\n",
       "      <td>Facebook</td>\n",
       "    </tr>\n",
       "    <tr>\n",
       "      <th>6</th>\n",
       "      <td>AM-00603</td>\n",
       "      <td>Azad</td>\n",
       "      <td>Asok</td>\n",
       "      <td>9358980003</td>\n",
       "      <td>Amazon</td>\n",
       "    </tr>\n",
       "    <tr>\n",
       "      <th>7</th>\n",
       "      <td>HC-00700</td>\n",
       "      <td>Manu</td>\n",
       "      <td>Prasad</td>\n",
       "      <td>9678876700</td>\n",
       "      <td>Hcl</td>\n",
       "    </tr>\n",
       "    <tr>\n",
       "      <th>8</th>\n",
       "      <td>TE-00843</td>\n",
       "      <td>Manu</td>\n",
       "      <td>Mohan</td>\n",
       "      <td>8943434543</td>\n",
       "      <td>Techxer</td>\n",
       "    </tr>\n",
       "    <tr>\n",
       "      <th>9</th>\n",
       "      <td>AM-00955</td>\n",
       "      <td>Akhil</td>\n",
       "      <td>Joy</td>\n",
       "      <td>9656064555</td>\n",
       "      <td>American Express</td>\n",
       "    </tr>\n",
       "    <tr>\n",
       "      <th>10</th>\n",
       "      <td>KN-01095</td>\n",
       "      <td>Gangadathan</td>\n",
       "      <td>PS</td>\n",
       "      <td>8129361195</td>\n",
       "      <td>Knowldege Foundry</td>\n",
       "    </tr>\n",
       "    <tr>\n",
       "      <th>11</th>\n",
       "      <td>AK-01123</td>\n",
       "      <td>Sreejith</td>\n",
       "      <td>Mohanan</td>\n",
       "      <td>9388980023</td>\n",
       "      <td>Akaike Technologie</td>\n",
       "    </tr>\n",
       "    <tr>\n",
       "      <th>12</th>\n",
       "      <td>IN-01289</td>\n",
       "      <td>Sujith</td>\n",
       "      <td>R Nair</td>\n",
       "      <td>9678876789</td>\n",
       "      <td>Internshala</td>\n",
       "    </tr>\n",
       "  </tbody>\n",
       "</table>\n",
       "</div>"
      ],
      "text/plain": [
       "   employee ids   First Name      Last Name    Phone_NO             company\n",
       "0      TR-00095        Rahul           Baby  8129361195            Tranzmeo\n",
       "1      GO-00123      Maneesh            M M  9388980023              Google\n",
       "2      AP-00289        Arjun  Krishnankutty  9678876789               Apple\n",
       "3      MI-00312         Eben       Luke Joy  8943434512           Microsoft\n",
       "4      TW-00433         Ajay       Krishnan  9656064333             Twitter\n",
       "5      FA-00591        Arjun        Mohanan  4566361191            Facebook\n",
       "6      AM-00603         Azad           Asok  9358980003              Amazon\n",
       "7      HC-00700         Manu         Prasad  9678876700                 Hcl\n",
       "8      TE-00843         Manu          Mohan  8943434543             Techxer\n",
       "9      AM-00955        Akhil            Joy  9656064555    American Express\n",
       "10     KN-01095  Gangadathan             PS  8129361195   Knowldege Foundry\n",
       "11     AK-01123     Sreejith        Mohanan  9388980023  Akaike Technologie\n",
       "12     IN-01289       Sujith         R Nair  9678876789         Internshala"
      ]
     },
     "execution_count": 169,
     "metadata": {},
     "output_type": "execute_result"
    }
   ],
   "source": [
    "pd.read_csv('final_data.csv')"
   ]
  },
  {
   "cell_type": "code",
   "execution_count": null,
   "id": "cd29f565",
   "metadata": {},
   "outputs": [],
   "source": []
  }
 ],
 "metadata": {
  "kernelspec": {
   "display_name": "Python 3 (ipykernel)",
   "language": "python",
   "name": "python3"
  },
  "language_info": {
   "codemirror_mode": {
    "name": "ipython",
    "version": 3
   },
   "file_extension": ".py",
   "mimetype": "text/x-python",
   "name": "python",
   "nbconvert_exporter": "python",
   "pygments_lexer": "ipython3",
   "version": "3.9.7"
  }
 },
 "nbformat": 4,
 "nbformat_minor": 5
}
